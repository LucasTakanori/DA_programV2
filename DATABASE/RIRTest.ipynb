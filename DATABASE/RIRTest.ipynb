{
 "cells": [
  {
   "cell_type": "code",
   "execution_count": 2,
   "metadata": {},
   "outputs": [],
   "source": [
    "import time\n",
    "import wave\n",
    "import librosa\n",
    "import librosa.display\n",
    "import librosa.util\n",
    "import librosa.filters\n",
    "import librosa.display\n",
    "from librosa.core import audio\n",
    "\n",
    "import soundfile as sf\n",
    "import soundfile\n",
    "\n",
    "from glob import glob\n",
    "\n",
    "import numpy as np\n",
    "import pandas as pd\n",
    "import matplotlib.pyplot as plt\n",
    "\n",
    "import os\n",
    "\n",
    "from pydub import AudioSegment\n",
    "\n",
    "import scipy\n",
    "from scipy.io.wavfile import write\n",
    "from scipy import signal\n",
    "from scipy.signal import butter, lfilter, filtfilt\n",
    "from scipy.io import wavfile\n",
    "from scipy.signal import fftconvolve\n",
    "\n",
    "import random\n",
    "\n",
    "import subprocess\n",
    "\n",
    "import colorednoise as cn\n",
    "\n"
   ]
  },
  {
   "cell_type": "code",
   "execution_count": 3,
   "metadata": {},
   "outputs": [],
   "source": [
    "\n",
    "def RIR_Filtering(input_audio, output_audio, impulse_response_txt):\n",
    "\n",
    "    # Read audio file\n",
    "    sample_rate, audio_data = wavfile.read(input_audio)\n",
    "\n",
    "    # Read impulse response samples from text file\n",
    "    with open(impulse_response_txt, 'r') as f:\n",
    "        impulse_response = np.array([float(line.strip()) for line in f.readlines()])\n",
    "\n",
    "    # Apply convolution\n",
    "    convolved_audio = fftconvolve(audio_data, impulse_response)#, mode='same')\n",
    "\n",
    "    # Normalize the convolved audio\n",
    "    convolved_audio = (convolved_audio / np.max(np.abs(convolved_audio)) * np.iinfo(np.int16).max).astype(np.int16)\n",
    "\n",
    "    # Save the convolved audio to output file\n",
    "    wavfile.write(output_audio, sample_rate, convolved_audio)\n",
    "\n",
    "# Example usage:\n",
    "RIR_Filtering('upc_ca_ona_100000.wav', 'upc_ca_ona_100000RIR.wav', '../program_samples/AIR_Database/air_binaural_aula_carolina_0_1_1_90_3.txt')\n"
   ]
  }
 ],
 "metadata": {
  "kernelspec": {
   "display_name": "Python 3",
   "language": "python",
   "name": "python3"
  },
  "language_info": {
   "codemirror_mode": {
    "name": "ipython",
    "version": 3
   },
   "file_extension": ".py",
   "mimetype": "text/x-python",
   "name": "python",
   "nbconvert_exporter": "python",
   "pygments_lexer": "ipython3",
   "version": "3.10.6"
  },
  "orig_nbformat": 4
 },
 "nbformat": 4,
 "nbformat_minor": 2
}
