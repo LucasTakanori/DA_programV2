{
 "cells": [
  {
   "cell_type": "code",
   "execution_count": 2,
   "metadata": {},
   "outputs": [],
   "source": [
    "import os\n",
    "import glob\n",
    "import librosa\n",
    "import numpy as np\n",
    "import soundfile as sf\n",
    "\n",
    "def test_snr(input_filename,desired_snr):#, output_filename, desired_snr):\n",
    "    # Read the input audio file\n",
    "    signal, sr = librosa.load(input_filename, sr=None)\n",
    "\n",
    "    # Remove silence from the start and end of the signal\n",
    "    trimmed_signal, indices = librosa.effects.trim(signal)\n",
    "\n",
    "    #Saving silences\n",
    "    # Calculate the silence portion by subtracting the trimmed signal from the original signal\n",
    "    silence_start = signal[:indices[0]]\n",
    "    silence_end = signal[indices[1]:]\n",
    "\n",
    "    #Calculate SNR\n",
    "    SNR = 10 * np.log10((np.sum(trimmed_signal ** 2)+ np.sum(silence_start ** 2) )/ np.sum(silence_start ** 2))\n",
    "    print(\"SNR: \", SNR)\n",
    "\n",
    "    #Generate white noise\n",
    "    noise = np.random.normal(0, 1, signal.shape)\n",
    "\n",
    "    # Calculate the signal and noise power\n",
    "    signal_power = np.sum(trimmed_signal ** 2) / trimmed_signal.size\n",
    "    noise_power = np.sum(noise ** 2) / noise.size\n",
    "\n",
    "    # Calculate the scaling factor for the desired SNR level\n",
    "    scaling_factor = np.sqrt((signal_power / noise_power) * 10 ** (-desired_snr / 10))\n",
    "\n",
    "    # Scale the noise\n",
    "    noise_scaled = noise * scaling_factor\n",
    "\n",
    "    # Add the scaled white noise to the trimmed signal\n",
    "    noisy_signal = signal + noise_scaled\n",
    "\n",
    "    SNR = 10 * np.log10((np.sum(noisy_signal ** 2))/ np.sum(noise_scaled ** 2))\n",
    "    print(\"SNR: \", SNR)\n",
    "    # Save the modified audio signal to the output file\n",
    "    #sf.write(output_filename, noisy_signal, sr)\n"
   ]
  },
  {
   "cell_type": "code",
   "execution_count": 6,
   "metadata": {},
   "outputs": [
    {
     "name": "stdout",
     "output_type": "stream",
     "text": [
      "SNR:  inf\n",
      "SNR:  40.00067126190088\n"
     ]
    },
    {
     "name": "stderr",
     "output_type": "stream",
     "text": [
      "/tmp/ipykernel_4371/4055992481.py:20: RuntimeWarning: divide by zero encountered in float_scalars\n",
      "  SNR = 10 * np.log10((np.sum(trimmed_signal ** 2)+ np.sum(silence_start ** 2) )/ np.sum(silence_start ** 2))\n"
     ]
    }
   ],
   "source": [
    "test_snr(\"upc_ca_ona_100000.wav\",40)"
   ]
  }
 ],
 "metadata": {
  "kernelspec": {
   "display_name": "Python 3",
   "language": "python",
   "name": "python3"
  },
  "language_info": {
   "codemirror_mode": {
    "name": "ipython",
    "version": 3
   },
   "file_extension": ".py",
   "mimetype": "text/x-python",
   "name": "python",
   "nbconvert_exporter": "python",
   "pygments_lexer": "ipython3",
   "version": "3.10.6"
  },
  "orig_nbformat": 4
 },
 "nbformat": 4,
 "nbformat_minor": 2
}
